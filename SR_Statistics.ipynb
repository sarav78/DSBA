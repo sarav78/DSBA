{
 "cells": [
  {
   "cell_type": "markdown",
   "id": "d2cf65e0",
   "metadata": {},
   "source": [
    "# E-News Express project\n",
    "An online news portal aims to expand its business by acquiring new subscribers. Every visitor to the website takes certain actions based on their interest. The company plans to analyze these interests and wants to determine whether a new feature will be effective or not. Companies often analyze users' responses to two variants of a product to decide which of the two variants is more effective.\n",
    "We would perform A/B testing to understand effectiveness of new planding page."
   ]
  },
  {
   "cell_type": "markdown",
   "id": "437ec1f6",
   "metadata": {},
   "source": [
    "## Important Pointers\n",
    "* Random Population of 100 Samples\n",
    "* Two groups namely Control and Treatment with equal samples\n",
    "* Consider a significance level of 0.05 for all tests."
   ]
  },
  {
   "cell_type": "markdown",
   "id": "0bb301ff",
   "metadata": {},
   "source": [
    "## Objective\n",
    "To understand the data and perform statistical analysis to answer following questions\n",
    "* Perform EDA and provide insights.\n",
    "* Do the users spend more time on the new landing page than the old landing page?\n",
    "* Is the conversion rate (the proportion of users who visit the landing page and get converted) for the new page greater than the conversion rate for the old page?\n",
    "* Does the converted status depend on the preferred language? \n",
    "* Is the mean time spent on the new page same for the different language users?\n"
   ]
  },
  {
   "cell_type": "code",
   "execution_count": 86,
   "id": "3fe7b5c3",
   "metadata": {},
   "outputs": [],
   "source": [
    "#import required packages\n",
    "import numpy as np\n",
    "import pandas as pd\n",
    "import matplotlib.pyplot as plt\n",
    "import seaborn as sns\n",
    "from scipy import stats\n",
    "sns.set(color_codes=True) # adds a nice background to the graphs\n",
    "%matplotlib inline \n",
    "# tells python to actually display the graphs\n",
    "import warnings # Libray to suppress warnings and any deprecated package info for Prod scenario **not to be used in development environment\n",
    "warnings.filterwarnings('ignore')"
   ]
  },
  {
   "cell_type": "code",
   "execution_count": 87,
   "id": "baefdd53",
   "metadata": {},
   "outputs": [],
   "source": [
    "# read data in to Pandas Dataframe for analysis\n",
    "udata = pd.read_csv(\"abtest.csv\")\n",
    "\n",
    "#Take backup incase\n",
    "udata_backup = udata.copy()"
   ]
  },
  {
   "cell_type": "code",
   "execution_count": 88,
   "id": "fde1e635",
   "metadata": {},
   "outputs": [
    {
     "data": {
      "text/plain": [
       "(100, 6)"
      ]
     },
     "execution_count": 88,
     "metadata": {},
     "output_type": "execute_result"
    }
   ],
   "source": [
    "# Check structure of data\n",
    "udata.shape"
   ]
  },
  {
   "cell_type": "code",
   "execution_count": 90,
   "id": "f84262c1",
   "metadata": {},
   "outputs": [
    {
     "name": "stdout",
     "output_type": "stream",
     "text": [
      "<class 'pandas.core.frame.DataFrame'>\n",
      "RangeIndex: 100 entries, 0 to 99\n",
      "Data columns (total 6 columns):\n",
      " #   Column                  Non-Null Count  Dtype  \n",
      "---  ------                  --------------  -----  \n",
      " 0   user_id                 100 non-null    int64  \n",
      " 1   group                   100 non-null    object \n",
      " 2   landing_page            100 non-null    object \n",
      " 3   time_spent_on_the_page  100 non-null    float64\n",
      " 4   converted               100 non-null    object \n",
      " 5   language_preferred      100 non-null    object \n",
      "dtypes: float64(1), int64(1), object(4)\n",
      "memory usage: 4.8+ KB\n"
     ]
    }
   ],
   "source": [
    "# Check data structure\n",
    "udata.info()"
   ]
  },
  {
   "cell_type": "markdown",
   "id": "650d1d5b",
   "metadata": {},
   "source": [
    "#### Inital Inference\n",
    "* Data has 6 columns and 100 rows\n",
    "* Time_spent_on_page and user_id are numerical values\n",
    "* Group, Landing_page, COnverted, language_preferred are categorical values"
   ]
  },
  {
   "cell_type": "code",
   "execution_count": 92,
   "id": "39f4a90f",
   "metadata": {},
   "outputs": [],
   "source": [
    "# Convert Categorical values\n",
    "udata['landing_page'] = udata.landing_page.astype('category')\n",
    "udata['converted'] = udata.converted.astype('category')\n",
    "udata['language_preferred'] = udata.language_preferred.astype('category')"
   ]
  },
  {
   "cell_type": "code",
   "execution_count": 91,
   "id": "fc70f2a6",
   "metadata": {},
   "outputs": [
    {
     "data": {
      "text/html": [
       "<div>\n",
       "<style scoped>\n",
       "    .dataframe tbody tr th:only-of-type {\n",
       "        vertical-align: middle;\n",
       "    }\n",
       "\n",
       "    .dataframe tbody tr th {\n",
       "        vertical-align: top;\n",
       "    }\n",
       "\n",
       "    .dataframe thead th {\n",
       "        text-align: right;\n",
       "    }\n",
       "</style>\n",
       "<table border=\"1\" class=\"dataframe\">\n",
       "  <thead>\n",
       "    <tr style=\"text-align: right;\">\n",
       "      <th></th>\n",
       "      <th>user_id</th>\n",
       "      <th>time_spent_on_the_page</th>\n",
       "    </tr>\n",
       "  </thead>\n",
       "  <tbody>\n",
       "    <tr>\n",
       "      <th>count</th>\n",
       "      <td>100.000000</td>\n",
       "      <td>100.000000</td>\n",
       "    </tr>\n",
       "    <tr>\n",
       "      <th>mean</th>\n",
       "      <td>546517.000000</td>\n",
       "      <td>5.377800</td>\n",
       "    </tr>\n",
       "    <tr>\n",
       "      <th>std</th>\n",
       "      <td>52.295779</td>\n",
       "      <td>2.378166</td>\n",
       "    </tr>\n",
       "    <tr>\n",
       "      <th>min</th>\n",
       "      <td>546443.000000</td>\n",
       "      <td>0.190000</td>\n",
       "    </tr>\n",
       "    <tr>\n",
       "      <th>25%</th>\n",
       "      <td>546467.750000</td>\n",
       "      <td>3.880000</td>\n",
       "    </tr>\n",
       "    <tr>\n",
       "      <th>50%</th>\n",
       "      <td>546492.500000</td>\n",
       "      <td>5.415000</td>\n",
       "    </tr>\n",
       "    <tr>\n",
       "      <th>75%</th>\n",
       "      <td>546567.250000</td>\n",
       "      <td>7.022500</td>\n",
       "    </tr>\n",
       "    <tr>\n",
       "      <th>max</th>\n",
       "      <td>546592.000000</td>\n",
       "      <td>10.710000</td>\n",
       "    </tr>\n",
       "  </tbody>\n",
       "</table>\n",
       "</div>"
      ],
      "text/plain": [
       "             user_id  time_spent_on_the_page\n",
       "count     100.000000              100.000000\n",
       "mean   546517.000000                5.377800\n",
       "std        52.295779                2.378166\n",
       "min    546443.000000                0.190000\n",
       "25%    546467.750000                3.880000\n",
       "50%    546492.500000                5.415000\n",
       "75%    546567.250000                7.022500\n",
       "max    546592.000000               10.710000"
      ]
     },
     "execution_count": 91,
     "metadata": {},
     "output_type": "execute_result"
    }
   ],
   "source": [
    "# Do statistical analysis\n",
    "udata.describe()"
   ]
  },
  {
   "cell_type": "markdown",
   "id": "ce151bcc",
   "metadata": {},
   "source": [
    "* Mean time spent is 5. Looks like normally distributed data\n",
    "* max value indicates there may be outliers.\n",
    "* User_id can be ignored for analysis"
   ]
  },
  {
   "cell_type": "code",
   "execution_count": 96,
   "id": "2bf128a7",
   "metadata": {},
   "outputs": [
    {
     "data": {
      "text/html": [
       "<div>\n",
       "<style scoped>\n",
       "    .dataframe tbody tr th:only-of-type {\n",
       "        vertical-align: middle;\n",
       "    }\n",
       "\n",
       "    .dataframe tbody tr th {\n",
       "        vertical-align: top;\n",
       "    }\n",
       "\n",
       "    .dataframe thead th {\n",
       "        text-align: right;\n",
       "    }\n",
       "</style>\n",
       "<table border=\"1\" class=\"dataframe\">\n",
       "  <thead>\n",
       "    <tr style=\"text-align: right;\">\n",
       "      <th></th>\n",
       "      <th>user_id</th>\n",
       "      <th>group</th>\n",
       "      <th>landing_page</th>\n",
       "      <th>time_spent_on_the_page</th>\n",
       "      <th>converted</th>\n",
       "      <th>language_preferred</th>\n",
       "    </tr>\n",
       "  </thead>\n",
       "  <tbody>\n",
       "    <tr>\n",
       "      <th>0</th>\n",
       "      <td>546592</td>\n",
       "      <td>control</td>\n",
       "      <td>old</td>\n",
       "      <td>3.48</td>\n",
       "      <td>no</td>\n",
       "      <td>Spanish</td>\n",
       "    </tr>\n",
       "    <tr>\n",
       "      <th>1</th>\n",
       "      <td>546468</td>\n",
       "      <td>treatment</td>\n",
       "      <td>new</td>\n",
       "      <td>7.13</td>\n",
       "      <td>yes</td>\n",
       "      <td>English</td>\n",
       "    </tr>\n",
       "    <tr>\n",
       "      <th>2</th>\n",
       "      <td>546462</td>\n",
       "      <td>treatment</td>\n",
       "      <td>new</td>\n",
       "      <td>4.40</td>\n",
       "      <td>no</td>\n",
       "      <td>Spanish</td>\n",
       "    </tr>\n",
       "    <tr>\n",
       "      <th>3</th>\n",
       "      <td>546567</td>\n",
       "      <td>control</td>\n",
       "      <td>old</td>\n",
       "      <td>3.02</td>\n",
       "      <td>no</td>\n",
       "      <td>French</td>\n",
       "    </tr>\n",
       "    <tr>\n",
       "      <th>4</th>\n",
       "      <td>546459</td>\n",
       "      <td>treatment</td>\n",
       "      <td>new</td>\n",
       "      <td>4.75</td>\n",
       "      <td>yes</td>\n",
       "      <td>Spanish</td>\n",
       "    </tr>\n",
       "  </tbody>\n",
       "</table>\n",
       "</div>"
      ],
      "text/plain": [
       "   user_id      group landing_page  time_spent_on_the_page converted  \\\n",
       "0   546592    control          old                    3.48        no   \n",
       "1   546468  treatment          new                    7.13       yes   \n",
       "2   546462  treatment          new                    4.40        no   \n",
       "3   546567    control          old                    3.02        no   \n",
       "4   546459  treatment          new                    4.75       yes   \n",
       "\n",
       "  language_preferred  \n",
       "0            Spanish  \n",
       "1            English  \n",
       "2            Spanish  \n",
       "3             French  \n",
       "4            Spanish  "
      ]
     },
     "execution_count": 96,
     "metadata": {},
     "output_type": "execute_result"
    }
   ],
   "source": [
    "udata.head() # View top 5 rows"
   ]
  },
  {
   "cell_type": "code",
   "execution_count": 95,
   "id": "819c5b40",
   "metadata": {},
   "outputs": [
    {
     "data": {
      "text/html": [
       "<div>\n",
       "<style scoped>\n",
       "    .dataframe tbody tr th:only-of-type {\n",
       "        vertical-align: middle;\n",
       "    }\n",
       "\n",
       "    .dataframe tbody tr th {\n",
       "        vertical-align: top;\n",
       "    }\n",
       "\n",
       "    .dataframe thead th {\n",
       "        text-align: right;\n",
       "    }\n",
       "</style>\n",
       "<table border=\"1\" class=\"dataframe\">\n",
       "  <thead>\n",
       "    <tr style=\"text-align: right;\">\n",
       "      <th></th>\n",
       "      <th>user_id</th>\n",
       "      <th>group</th>\n",
       "      <th>landing_page</th>\n",
       "      <th>time_spent_on_the_page</th>\n",
       "      <th>converted</th>\n",
       "      <th>language_preferred</th>\n",
       "    </tr>\n",
       "  </thead>\n",
       "  <tbody>\n",
       "    <tr>\n",
       "      <th>95</th>\n",
       "      <td>546446</td>\n",
       "      <td>treatment</td>\n",
       "      <td>new</td>\n",
       "      <td>5.15</td>\n",
       "      <td>no</td>\n",
       "      <td>Spanish</td>\n",
       "    </tr>\n",
       "    <tr>\n",
       "      <th>96</th>\n",
       "      <td>546544</td>\n",
       "      <td>control</td>\n",
       "      <td>old</td>\n",
       "      <td>6.52</td>\n",
       "      <td>yes</td>\n",
       "      <td>English</td>\n",
       "    </tr>\n",
       "    <tr>\n",
       "      <th>97</th>\n",
       "      <td>546472</td>\n",
       "      <td>treatment</td>\n",
       "      <td>new</td>\n",
       "      <td>7.07</td>\n",
       "      <td>yes</td>\n",
       "      <td>Spanish</td>\n",
       "    </tr>\n",
       "    <tr>\n",
       "      <th>98</th>\n",
       "      <td>546481</td>\n",
       "      <td>treatment</td>\n",
       "      <td>new</td>\n",
       "      <td>6.20</td>\n",
       "      <td>yes</td>\n",
       "      <td>Spanish</td>\n",
       "    </tr>\n",
       "    <tr>\n",
       "      <th>99</th>\n",
       "      <td>546483</td>\n",
       "      <td>treatment</td>\n",
       "      <td>new</td>\n",
       "      <td>5.86</td>\n",
       "      <td>yes</td>\n",
       "      <td>English</td>\n",
       "    </tr>\n",
       "  </tbody>\n",
       "</table>\n",
       "</div>"
      ],
      "text/plain": [
       "    user_id      group landing_page  time_spent_on_the_page converted  \\\n",
       "95   546446  treatment          new                    5.15        no   \n",
       "96   546544    control          old                    6.52       yes   \n",
       "97   546472  treatment          new                    7.07       yes   \n",
       "98   546481  treatment          new                    6.20       yes   \n",
       "99   546483  treatment          new                    5.86       yes   \n",
       "\n",
       "   language_preferred  \n",
       "95            Spanish  \n",
       "96            English  \n",
       "97            Spanish  \n",
       "98            Spanish  \n",
       "99            English  "
      ]
     },
     "execution_count": 95,
     "metadata": {},
     "output_type": "execute_result"
    }
   ],
   "source": [
    "udata.tail() #view bottom five rows"
   ]
  },
  {
   "cell_type": "code",
   "execution_count": 97,
   "id": "9e910a78",
   "metadata": {},
   "outputs": [
    {
     "data": {
      "text/html": [
       "<div>\n",
       "<style scoped>\n",
       "    .dataframe tbody tr th:only-of-type {\n",
       "        vertical-align: middle;\n",
       "    }\n",
       "\n",
       "    .dataframe tbody tr th {\n",
       "        vertical-align: top;\n",
       "    }\n",
       "\n",
       "    .dataframe thead th {\n",
       "        text-align: right;\n",
       "    }\n",
       "</style>\n",
       "<table border=\"1\" class=\"dataframe\">\n",
       "  <thead>\n",
       "    <tr style=\"text-align: right;\">\n",
       "      <th></th>\n",
       "      <th>user_id</th>\n",
       "      <th>group</th>\n",
       "      <th>landing_page</th>\n",
       "      <th>time_spent_on_the_page</th>\n",
       "      <th>converted</th>\n",
       "      <th>language_preferred</th>\n",
       "    </tr>\n",
       "  </thead>\n",
       "  <tbody>\n",
       "    <tr>\n",
       "      <th>0</th>\n",
       "      <td>False</td>\n",
       "      <td>False</td>\n",
       "      <td>False</td>\n",
       "      <td>False</td>\n",
       "      <td>False</td>\n",
       "      <td>False</td>\n",
       "    </tr>\n",
       "    <tr>\n",
       "      <th>1</th>\n",
       "      <td>False</td>\n",
       "      <td>False</td>\n",
       "      <td>False</td>\n",
       "      <td>False</td>\n",
       "      <td>False</td>\n",
       "      <td>False</td>\n",
       "    </tr>\n",
       "    <tr>\n",
       "      <th>2</th>\n",
       "      <td>False</td>\n",
       "      <td>False</td>\n",
       "      <td>False</td>\n",
       "      <td>False</td>\n",
       "      <td>False</td>\n",
       "      <td>False</td>\n",
       "    </tr>\n",
       "    <tr>\n",
       "      <th>3</th>\n",
       "      <td>False</td>\n",
       "      <td>False</td>\n",
       "      <td>False</td>\n",
       "      <td>False</td>\n",
       "      <td>False</td>\n",
       "      <td>False</td>\n",
       "    </tr>\n",
       "    <tr>\n",
       "      <th>4</th>\n",
       "      <td>False</td>\n",
       "      <td>False</td>\n",
       "      <td>False</td>\n",
       "      <td>False</td>\n",
       "      <td>False</td>\n",
       "      <td>False</td>\n",
       "    </tr>\n",
       "    <tr>\n",
       "      <th>...</th>\n",
       "      <td>...</td>\n",
       "      <td>...</td>\n",
       "      <td>...</td>\n",
       "      <td>...</td>\n",
       "      <td>...</td>\n",
       "      <td>...</td>\n",
       "    </tr>\n",
       "    <tr>\n",
       "      <th>95</th>\n",
       "      <td>False</td>\n",
       "      <td>False</td>\n",
       "      <td>False</td>\n",
       "      <td>False</td>\n",
       "      <td>False</td>\n",
       "      <td>False</td>\n",
       "    </tr>\n",
       "    <tr>\n",
       "      <th>96</th>\n",
       "      <td>False</td>\n",
       "      <td>False</td>\n",
       "      <td>False</td>\n",
       "      <td>False</td>\n",
       "      <td>False</td>\n",
       "      <td>False</td>\n",
       "    </tr>\n",
       "    <tr>\n",
       "      <th>97</th>\n",
       "      <td>False</td>\n",
       "      <td>False</td>\n",
       "      <td>False</td>\n",
       "      <td>False</td>\n",
       "      <td>False</td>\n",
       "      <td>False</td>\n",
       "    </tr>\n",
       "    <tr>\n",
       "      <th>98</th>\n",
       "      <td>False</td>\n",
       "      <td>False</td>\n",
       "      <td>False</td>\n",
       "      <td>False</td>\n",
       "      <td>False</td>\n",
       "      <td>False</td>\n",
       "    </tr>\n",
       "    <tr>\n",
       "      <th>99</th>\n",
       "      <td>False</td>\n",
       "      <td>False</td>\n",
       "      <td>False</td>\n",
       "      <td>False</td>\n",
       "      <td>False</td>\n",
       "      <td>False</td>\n",
       "    </tr>\n",
       "  </tbody>\n",
       "</table>\n",
       "<p>100 rows × 6 columns</p>\n",
       "</div>"
      ],
      "text/plain": [
       "    user_id  group  landing_page  time_spent_on_the_page  converted  \\\n",
       "0     False  False         False                   False      False   \n",
       "1     False  False         False                   False      False   \n",
       "2     False  False         False                   False      False   \n",
       "3     False  False         False                   False      False   \n",
       "4     False  False         False                   False      False   \n",
       "..      ...    ...           ...                     ...        ...   \n",
       "95    False  False         False                   False      False   \n",
       "96    False  False         False                   False      False   \n",
       "97    False  False         False                   False      False   \n",
       "98    False  False         False                   False      False   \n",
       "99    False  False         False                   False      False   \n",
       "\n",
       "    language_preferred  \n",
       "0                False  \n",
       "1                False  \n",
       "2                False  \n",
       "3                False  \n",
       "4                False  \n",
       "..                 ...  \n",
       "95               False  \n",
       "96               False  \n",
       "97               False  \n",
       "98               False  \n",
       "99               False  \n",
       "\n",
       "[100 rows x 6 columns]"
      ]
     },
     "execution_count": 97,
     "metadata": {},
     "output_type": "execute_result"
    }
   ],
   "source": [
    "#Check for null values\n",
    "udata.isnull()"
   ]
  },
  {
   "cell_type": "code",
   "execution_count": 16,
   "id": "b462c22b",
   "metadata": {},
   "outputs": [
    {
     "data": {
      "text/plain": [
       "<AxesSubplot:>"
      ]
     },
     "execution_count": 16,
     "metadata": {},
     "output_type": "execute_result"
    },
    {
     "data": {
      "image/png": "[encoded data removed]",
      "text/plain": [
       "<Figure size 432x288 with 1 Axes>"
      ]
     },
     "metadata": {
      "needs_background": "light"
     },
     "output_type": "display_data"
    }
   ],
   "source": [
    "# Above method doesn't show for all data, this chart might help\n",
    "sns.heatmap(udata.isnull(),yticklabels=False,cbar=False,cmap='viridis') "
   ]
  },
  {
   "cell_type": "code",
   "execution_count": 99,
   "id": "0cb97e33",
   "metadata": {},
   "outputs": [
    {
     "data": {
      "text/html": [
       "<div>\n",
       "<style scoped>\n",
       "    .dataframe tbody tr th:only-of-type {\n",
       "        vertical-align: middle;\n",
       "    }\n",
       "\n",
       "    .dataframe tbody tr th {\n",
       "        vertical-align: top;\n",
       "    }\n",
       "\n",
       "    .dataframe thead th {\n",
       "        text-align: right;\n",
       "    }\n",
       "</style>\n",
       "<table border=\"1\" class=\"dataframe\">\n",
       "  <thead>\n",
       "    <tr style=\"text-align: right;\">\n",
       "      <th></th>\n",
       "      <th>group</th>\n",
       "      <th>landing_page</th>\n",
       "      <th>converted</th>\n",
       "      <th>language_preferred</th>\n",
       "    </tr>\n",
       "  </thead>\n",
       "  <tbody>\n",
       "    <tr>\n",
       "      <th>count</th>\n",
       "      <td>100</td>\n",
       "      <td>100</td>\n",
       "      <td>100</td>\n",
       "      <td>100</td>\n",
       "    </tr>\n",
       "    <tr>\n",
       "      <th>unique</th>\n",
       "      <td>2</td>\n",
       "      <td>2</td>\n",
       "      <td>2</td>\n",
       "      <td>3</td>\n",
       "    </tr>\n",
       "    <tr>\n",
       "      <th>top</th>\n",
       "      <td>control</td>\n",
       "      <td>new</td>\n",
       "      <td>yes</td>\n",
       "      <td>French</td>\n",
       "    </tr>\n",
       "    <tr>\n",
       "      <th>freq</th>\n",
       "      <td>50</td>\n",
       "      <td>50</td>\n",
       "      <td>54</td>\n",
       "      <td>34</td>\n",
       "    </tr>\n",
       "  </tbody>\n",
       "</table>\n",
       "</div>"
      ],
      "text/plain": [
       "          group landing_page converted language_preferred\n",
       "count       100          100       100                100\n",
       "unique        2            2         2                  3\n",
       "top     control          new       yes             French\n",
       "freq         50           50        54                 34"
      ]
     },
     "execution_count": 99,
     "metadata": {},
     "output_type": "execute_result"
    }
   ],
   "source": [
    "udata.describe(exclude='number')# TO check for non-numerical attributes"
   ]
  },
  {
   "cell_type": "markdown",
   "id": "6cbb99e8",
   "metadata": {},
   "source": [
    "* As mentioned equal number of users for old and new landing page\n",
    "* French language preference users are most used in sample\n",
    "* COnversion ratio is just above half of population, may indicate effectiveness of new page"
   ]
  },
  {
   "cell_type": "code",
   "execution_count": 19,
   "id": "1c461c0c",
   "metadata": {},
   "outputs": [
    {
     "data": {
      "text/plain": [
       "user_id                   100\n",
       "group                       2\n",
       "landing_page                2\n",
       "time_spent_on_the_page     94\n",
       "converted                   2\n",
       "language_preferred          3\n",
       "dtype: int64"
      ]
     },
     "execution_count": 19,
     "metadata": {},
     "output_type": "execute_result"
    }
   ],
   "source": [
    "udata.nunique(axis=0) # check for unique values"
   ]
  },
  {
   "cell_type": "markdown",
   "id": "fcfb4166",
   "metadata": {},
   "source": [
    "## EDA"
   ]
  },
  {
   "cell_type": "code",
   "execution_count": 101,
   "id": "b128785f",
   "metadata": {},
   "outputs": [],
   "source": [
    "# While doing uni-variate analysis of numerical variables we want to study their central tendency \n",
    "# and dispersion.\n",
    "# Let us write a function that will help us create boxplot and histogram for any input numerical \n",
    "# variable.\n",
    "# This function takes the numerical column as the input and returns the boxplots \n",
    "# and histograms for the variable.\n",
    "# Let us see if this help us write faster and cleaner code.\n",
    "# function to plot a boxplot and a histogram along the same scale.\n",
    "\n",
    "\n",
    "def histogram_boxplot(data, feature, figsize=(12, 7), kde=False, bins=None):\n",
    "    \"\"\"\n",
    "    Boxplot and histogram combined\n",
    "\n",
    "    data: dataframe\n",
    "    feature: dataframe column\n",
    "    figsize: size of figure (default (12,7))\n",
    "    kde: whether to show the density curve (default False)\n",
    "    bins: number of bins for histogram (default None)\n",
    "    \"\"\"\n",
    "    f2, (ax_box2, ax_hist2) = plt.subplots(\n",
    "        nrows=2,  # Number of rows of the subplot grid= 2\n",
    "        sharex=True,  # x-axis will be shared among all subplots\n",
    "        gridspec_kw={\"height_ratios\": (0.25, 0.75)},\n",
    "        figsize=figsize,\n",
    "    )  # creating the 2 subplots\n",
    "    sns.boxplot(\n",
    "        data=data, x=feature, ax=ax_box2, showmeans=True, color=\"violet\"\n",
    "    )  # boxplot will be created and a star will indicate the mean value of the column\n",
    "    sns.histplot(\n",
    "        data=data, x=feature, kde=kde, ax=ax_hist2, bins=bins, palette=\"winter\"\n",
    "    ) if bins else sns.histplot(\n",
    "        data=data, x=feature, kde=kde, ax=ax_hist2\n",
    "    )  # For histogram\n",
    "    ax_hist2.axvline(\n",
    "        data[feature].mean(), color=\"green\", linestyle=\"--\"\n",
    "    )  # Add mean to the histogram\n",
    "    ax_hist2.axvline(\n",
    "        data[feature].median(), color=\"black\", linestyle=\"-\"\n",
    "    )  # Add median to the histogram"
   ]
  },
  {
   "cell_type": "code",
   "execution_count": 103,
   "id": "afafa9ba",
   "metadata": {},
   "outputs": [
    {
     "data": {
      "image/png": "[encoded data removed]",
      "text/plain": [
       "<Figure size 864x504 with 2 Axes>"
      ]
     },
     "metadata": {
      "needs_background": "light"
     },
     "output_type": "display_data"
    }
   ],
   "source": [
    "#Time_spent analysis\n",
    "histogram_boxplot(udata, \"time_spent_on_the_page\")"
   ]
  },
  {
   "cell_type": "markdown",
   "id": "802149c2",
   "metadata": {},
   "source": [
    "* Normal Uniform distribution of data\n",
    "* Mean time is around 5"
   ]
  },
  {
   "cell_type": "code",
   "execution_count": 114,
   "id": "9e5256fb",
   "metadata": {},
   "outputs": [
    {
     "data": {
      "text/plain": [
       "<AxesSubplot:title={'center':'Distribution of time_spent_on_the_page'}, xlabel='time_spent_on_the_page', ylabel='Density'>"
      ]
     },
     "execution_count": 114,
     "metadata": {},
     "output_type": "execute_result"
    },
    {
     "data": {
      "image/png": "[encoded data removed]",
      "text/plain": [
       "<Figure size 864x360 with 1 Axes>"
      ]
     },
     "metadata": {},
     "output_type": "display_data"
    }
   ],
   "source": [
    "plt.figure(figsize = (12,5))\n",
    "plt.title('Distribution of time_spent_on_the_page')\n",
    "sns.distplot(udata['time_spent_on_the_page'], color = 'y')"
   ]
  },
  {
   "cell_type": "code",
   "execution_count": 104,
   "id": "db671a4a",
   "metadata": {},
   "outputs": [
    {
     "data": {
      "text/plain": [
       "<AxesSubplot:xlabel='language_preferred', ylabel='count'>"
      ]
     },
     "execution_count": 104,
     "metadata": {},
     "output_type": "execute_result"
    },
    {
     "data": {
      "image/png": "[encoded data removed]",
      "text/plain": [
       "<Figure size 432x288 with 1 Axes>"
      ]
     },
     "metadata": {},
     "output_type": "display_data"
    }
   ],
   "source": [
    "# Observations on language_preferred\n",
    "sns.set_style('whitegrid')\n",
    "sns.countplot(x='language_preferred',hue='landing_page',data=udata,palette='rainbow')"
   ]
  },
  {
   "cell_type": "code",
   "execution_count": 105,
   "id": "b6d38bc0",
   "metadata": {},
   "outputs": [],
   "source": [
    "# function to create labeled barplots\n",
    "\n",
    "\n",
    "def labeled_barplot(data, feature, perc=False, n=None):\n",
    "    \"\"\"\n",
    "    Barplot with percentage at the top\n",
    "\n",
    "    data: dataframe\n",
    "    feature: dataframe column\n",
    "    perc: whether to display percentages instead of count (default is False)\n",
    "    n: displays the top n category levels (default is None, i.e., display all levels)\n",
    "    \"\"\"\n",
    "\n",
    "    total = len(data[feature])  # length of the column\n",
    "    count = data[feature].nunique()\n",
    "    if n is None:\n",
    "        plt.figure(figsize=(count + 1, 5))\n",
    "    else:\n",
    "        plt.figure(figsize=(n + 1, 5))\n",
    "\n",
    "    plt.xticks(rotation=90, fontsize=15)\n",
    "    ax = sns.countplot(\n",
    "        data=data,\n",
    "        x=feature,\n",
    "        palette=\"Paired\",\n",
    "        order=data[feature].value_counts().index[:n].sort_values(),\n",
    "    )\n",
    "\n",
    "    for p in ax.patches:\n",
    "        if perc == True:\n",
    "            label = \"{:.1f}%\".format(\n",
    "                100 * p.get_height() / total\n",
    "            )  # percentage of each class of the category\n",
    "        else:\n",
    "            label = p.get_height()  # count of each level of the category\n",
    "\n",
    "        x = p.get_x() + p.get_width() / 2  # width of the plot\n",
    "        y = p.get_height()  # height of the plot\n",
    "\n",
    "        ax.annotate(\n",
    "            label,\n",
    "            (x, y),\n",
    "            ha=\"center\",\n",
    "            va=\"center\",\n",
    "            size=12,\n",
    "            xytext=(0, 5),\n",
    "            textcoords=\"offset points\",\n",
    "        )  # annotate the percentage\n",
    "\n",
    "    plt.show()  # show the plot"
   ]
  },
  {
   "cell_type": "code",
   "execution_count": 107,
   "id": "ca3e5d98",
   "metadata": {},
   "outputs": [
    {
     "data": {
      "image/png": "[encoded data removed]",
      "text/plain": [
       "<Figure size 216x360 with 1 Axes>"
      ]
     },
     "metadata": {},
     "output_type": "display_data"
    }
   ],
   "source": [
    "labeled_barplot(udata, \"converted\", perc=True)"
   ]
  },
  {
   "cell_type": "code",
   "execution_count": 109,
   "id": "0b07f505",
   "metadata": {},
   "outputs": [
    {
     "data": {
      "image/png": "[encoded data removed]",
      "text/plain": [
       "<Figure size 216x360 with 1 Axes>"
      ]
     },
     "metadata": {},
     "output_type": "display_data"
    }
   ],
   "source": [
    "labeled_barplot(udata, \"landing_page\", perc=True)"
   ]
  },
  {
   "cell_type": "code",
   "execution_count": 110,
   "id": "fd451995",
   "metadata": {},
   "outputs": [
    {
     "data": {
      "image/png": "[encoded data removed]",
      "text/plain": [
       "<Figure size 288x360 with 1 Axes>"
      ]
     },
     "metadata": {},
     "output_type": "display_data"
    }
   ],
   "source": [
    "labeled_barplot(udata, \"language_preferred\", perc=True)"
   ]
  },
  {
   "cell_type": "code",
   "execution_count": 111,
   "id": "f27a481a",
   "metadata": {},
   "outputs": [
    {
     "data": {
      "image/png": "[encoded data removed]",
      "text/plain": [
       "<Figure size 1080x360 with 2 Axes>"
      ]
     },
     "metadata": {},
     "output_type": "display_data"
    }
   ],
   "source": [
    "# Bivariate analysis\n",
    "udata_corr = udata.corr()\n",
    "\n",
    "plt.figure(figsize=(15, 5))\n",
    "sns.heatmap(udata_corr,cmap='viridis',vmax=1.0, vmin=-1.0,\n",
    "            annot=True,square=True)\n",
    "plt.show()"
   ]
  },
  {
   "cell_type": "markdown",
   "id": "d7a77a7a",
   "metadata": {},
   "source": [
    "* Kind of not-required here, as User_id just key for user"
   ]
  },
  {
   "cell_type": "code",
   "execution_count": 24,
   "id": "a419ce04",
   "metadata": {},
   "outputs": [
    {
     "data": {
      "image/png": "[encoded data removed]",
      "text/plain": [
       "<Figure size 360x360 with 6 Axes>"
      ]
     },
     "metadata": {},
     "output_type": "display_data"
    }
   ],
   "source": [
    "sns.pairplot(udata,diag_kind=\"kde\")\n",
    "plt.show()"
   ]
  },
  {
   "cell_type": "code",
   "execution_count": 25,
   "id": "3c0c7cb3",
   "metadata": {},
   "outputs": [
    {
     "data": {
      "image/png": "[encoded data removed]",
      "text/plain": [
       "<Figure size 864x504 with 1 Axes>"
      ]
     },
     "metadata": {},
     "output_type": "display_data"
    }
   ],
   "source": [
    "#group vs time spent\n",
    "plt.figure(figsize=(12,7))\n",
    "sns.boxplot(x='group',y='time_spent_on_the_page',data=udata,palette='rainbow')\n",
    "plt.show()"
   ]
  },
  {
   "cell_type": "markdown",
   "id": "7e3b0847",
   "metadata": {},
   "source": [
    "* Shows some outliers for treatment group\n",
    "* treatment group (people given new_page) seem to have spent more time"
   ]
  },
  {
   "cell_type": "code",
   "execution_count": 26,
   "id": "aff903fe",
   "metadata": {},
   "outputs": [
    {
     "data": {
      "image/png": "[encoded data removed]",
      "text/plain": [
       "<Figure size 864x504 with 1 Axes>"
      ]
     },
     "metadata": {},
     "output_type": "display_data"
    }
   ],
   "source": [
    "# language vs time spent\n",
    "plt.figure(figsize=(12,7))\n",
    "sns.boxplot(x='language_preferred',y='time_spent_on_the_page',data=udata,palette='rainbow')\n",
    "plt.show()"
   ]
  },
  {
   "cell_type": "markdown",
   "id": "7f5d9082",
   "metadata": {},
   "source": [
    "* Shows average time spent by all language people are almost same.\n",
    "* Spanish peole seems to have spent less time in the pages"
   ]
  },
  {
   "cell_type": "code",
   "execution_count": 113,
   "id": "fa42ebf0",
   "metadata": {},
   "outputs": [
    {
     "data": {
      "image/png": "[encoded data removed]",
      "text/plain": [
       "<Figure size 864x504 with 1 Axes>"
      ]
     },
     "metadata": {},
     "output_type": "display_data"
    }
   ],
   "source": [
    "# landing page vs time spent\n",
    "plt.figure(figsize=(12,7))\n",
    "sns.boxplot(x='landing_page',y='time_spent_on_the_page',data=udata,palette='rainbow')\n",
    "plt.show()"
   ]
  },
  {
   "cell_type": "markdown",
   "id": "f3a476e8",
   "metadata": {},
   "source": [
    "* Users spent more time in new design, which is an good sign\n",
    "* There are some outliers in new page data"
   ]
  },
  {
   "cell_type": "code",
   "execution_count": 115,
   "id": "0da8c851",
   "metadata": {},
   "outputs": [
    {
     "data": {
      "image/png": "[encoded data removed]",
      "text/plain": [
       "<Figure size 864x504 with 1 Axes>"
      ]
     },
     "metadata": {},
     "output_type": "display_data"
    }
   ],
   "source": [
    "# landing page vs time spent\n",
    "plt.figure(figsize=(12,7))\n",
    "sns.boxplot(x='converted',y='time_spent_on_the_page',data=udata,palette='rainbow')\n",
    "plt.show()"
   ]
  },
  {
   "cell_type": "markdown",
   "id": "9b5e131d",
   "metadata": {},
   "source": [
    "* Users who got converted spend more time on the pages\n",
    "* Outliers present in converted users data\n",
    "* Average time spent by converted users is more than the samle average that is a good sign"
   ]
  },
  {
   "cell_type": "markdown",
   "id": "33264a1b",
   "metadata": {},
   "source": [
    "### EDA Insights\n",
    "* As overall, new_page design has positive impact as time spent by users have increased from initial analysis\n",
    "* Language does seem to influence conversion rate\n",
    "* Users who spent more time seems to get converted, that is good sign for business\n",
    "* Average time spent by users across language seems to be same"
   ]
  },
  {
   "cell_type": "markdown",
   "id": "4ca878fb",
   "metadata": {},
   "source": [
    "### Some Statistical Checking"
   ]
  },
  {
   "cell_type": "code",
   "execution_count": 31,
   "id": "7fb34379",
   "metadata": {},
   "outputs": [
    {
     "name": "stdout",
     "output_type": "stream",
     "text": [
      "No. of converted users :54\n",
      "Probability of converted user : 0.54\n"
     ]
    }
   ],
   "source": [
    "#No of Converted users and the probablity of conversion\n",
    "conv_user = udata.query('converted==\"yes\"').user_id.count()\n",
    "print('No. of converted users :{}'.format(conv_user))\n",
    "\n",
    "#probablity\n",
    "convprob = conv_user/udata.shape[0]\n",
    "print('Probability of converted user : {}'.format(convprob))"
   ]
  },
  {
   "cell_type": "markdown",
   "id": "904bb609",
   "metadata": {},
   "source": [
    "#### by above calculation, we can note that the probablity of user getting converted is around 0.54. "
   ]
  },
  {
   "cell_type": "code",
   "execution_count": 33,
   "id": "5fb67e5a",
   "metadata": {},
   "outputs": [
    {
     "name": "stdout",
     "output_type": "stream",
     "text": [
      "No. of converted users :50\n",
      "Probability of new page user: 0.5\n"
     ]
    }
   ],
   "source": [
    "#new page users\n",
    "new_rec = udata.query('landing_page==\"new\"').user_id.count()\n",
    "prob_new = new_rec / udata.shape[0]\n",
    "\n",
    "print('No. of converted users :{}'.format(new_rec))\n",
    "print('Probability of new page user: {}'.format(prob_new))"
   ]
  },
  {
   "cell_type": "markdown",
   "id": "052c3f0a",
   "metadata": {},
   "source": [
    "#### Above calculation indicates the number of users who get old landing page and new landing page is almost equal. "
   ]
  },
  {
   "cell_type": "markdown",
   "id": "9243fbef",
   "metadata": {},
   "source": [
    "## Do the users spend more time on the new landing page then the old landing page"
   ]
  },
  {
   "cell_type": "code",
   "execution_count": 57,
   "id": "1bd4922d",
   "metadata": {},
   "outputs": [
    {
     "name": "stdout",
     "output_type": "stream",
     "text": [
      "Average time spent on new page :6.2232\n",
      "Average time spent on old page :4.532400000000001\n",
      "SD of new page :1.7987689568146321\n",
      "SD of old page :2.556024694716387\n",
      "Mean time spent diff is :1.6907999999999994\n"
     ]
    }
   ],
   "source": [
    "### Average time spent diff between new and old\n",
    "oldmean = np.mean(udata[udata[\"landing_page\"]==\"old\"][\"time_spent_on_the_page\"])\n",
    "newmean = np.mean(udata[udata[\"landing_page\"]==\"new\"][\"time_spent_on_the_page\"])\n",
    "print('Average time spent on new page :{}'.format(newmean))\n",
    "print('Average time spent on old page :{}'.format(oldmean))\n",
    "newsd = np.std(udata[udata[\"landing_page\"]==\"new\"][\"time_spent_on_the_page\"])\n",
    "oldsd = np.std(udata[udata[\"landing_page\"]==\"old\"][\"time_spent_on_the_page\"])\n",
    "print('SD of new page :{}'.format(newsd))\n",
    "print('SD of old page :{}'.format(oldsd))\n",
    "print(\"Mean time spent diff is :{}\".format(newmean-oldmean))\n"
   ]
  },
  {
   "cell_type": "markdown",
   "id": "8872a19a",
   "metadata": {},
   "source": [
    "1. Continuous data - Yes, the time spent is measured on a continuous scale.\n",
    "2. Normally distributed populations - Yes, we are informed that the populations are assumed to be normal.\n",
    "3. Independent populations - As we are taking random samples for two different groups, the two samples are from two independent populations.\n",
    "4. Unequal population standard deviations - As the sample standard deviations are different, the population standard deviations may be assumed to be different.\n",
    "5. Random sampling from the population - Yes, we are informed that the collected sample a simple random sample.\n",
    "\n",
    "So we use two-sample T-test"
   ]
  },
  {
   "cell_type": "markdown",
   "id": "f9589211",
   "metadata": {},
   "source": [
    "#### Perform statistical analysis of the problem, Time spent on Landing page\n",
    "#### Null Hypothesis(H0) -Users spend same amount of time in new and old page \n",
    "#### Alternate Hypothesis(Ha) - Users spend more time in new page than old page"
   ]
  },
  {
   "cell_type": "code",
   "execution_count": 64,
   "id": "16023a11",
   "metadata": {},
   "outputs": [
    {
     "name": "stdout",
     "output_type": "stream",
     "text": [
      "The p-value is  0.0001392381225166549\n"
     ]
    }
   ],
   "source": [
    "#import the required functions\n",
    "from scipy.stats import ttest_ind\n",
    "# Calclualte p-value\n",
    "test_stat, p_value = ttest_ind(udata[udata[\"landing_page\"]==\"new\"][\"time_spent_on_the_page\"],udata[udata[\"landing_page\"]==\"old\"][\"time_spent_on_the_page\"],equal_var = False,alternative = 'greater')\n",
    "print('The p-value is ', p_value)\n"
   ]
  },
  {
   "cell_type": "markdown",
   "id": "83af223a",
   "metadata": {},
   "source": [
    "#### Conclusion\n",
    "As the p-value (~0.0001) is less than the level of significance, we can ***reject the null hypothesis***. Hence, we do have enough evidence to support the claim that users spend more time in new landing page compared to old page."
   ]
  },
  {
   "cell_type": "markdown",
   "id": "a5e495d3",
   "metadata": {},
   "source": [
    "## Conversion rate for new page greater than conversion rate of old page"
   ]
  },
  {
   "cell_type": "markdown",
   "id": "a5f1f3d5",
   "metadata": {},
   "source": [
    "##### It is clearly two-tailed test concerning 2 population proprotion p1 & p2, the proprotion of users vsiting new landing page and converted to\n",
    "##### users visting old landing page and converted"
   ]
  },
  {
   "cell_type": "markdown",
   "id": "5c6ab802",
   "metadata": {},
   "source": [
    "#### we would perform Two proportions Z-test\n",
    "#### Null Hypothesis (H0) : p1 = p2\n",
    "#### Alternate Hypothesisi (Ha): p1 != P2"
   ]
  },
  {
   "cell_type": "code",
   "execution_count": 77,
   "id": "4822dd34",
   "metadata": {},
   "outputs": [
    {
     "data": {
      "text/plain": [
       "(66.0, 42.0)"
      ]
     },
     "execution_count": 77,
     "metadata": {},
     "output_type": "execute_result"
    }
   ],
   "source": [
    "# calculate users\n",
    "# select only converted users\n",
    "convusers = udata[udata[\"converted\"]==\"yes\"]\n",
    "convusers.landing_page.value_counts()\n",
    "\n",
    "#Proportion of converted users visit new page\n",
    "newusers = convusers.landing_page.value_counts()[\"new\"] * 100 / udata.query('landing_page==\"new\"').user_id.count()\n",
    "\n",
    "#Proportion of converted users visit old page\n",
    "oldusers = convusers.landing_page.value_counts()[\"old\"] * 100 / udata.query('landing_page==\"old\"').user_id.count()\n",
    "newusers, oldusers"
   ]
  },
  {
   "cell_type": "markdown",
   "id": "3013377d",
   "metadata": {},
   "source": [
    "#### As we can see, 66.0% new users gets converted in the dataset whereas only 42% old users gets converted. There is a significant difference in the proportion.\n",
    "#### Perform statistical analysis of the problem by proportions test for it.\n",
    "#### Null Hypothesis(H0) - Conversion rate for new page and old page are same. \n",
    "#### Alternate Hypothesis(Ha) - Conversion rate for new page is greater than old page are same. "
   ]
  },
  {
   "cell_type": "code",
   "execution_count": 78,
   "id": "513c2921",
   "metadata": {},
   "outputs": [
    {
     "data": {
      "text/html": [
       "<div>\n",
       "<style scoped>\n",
       "    .dataframe tbody tr th:only-of-type {\n",
       "        vertical-align: middle;\n",
       "    }\n",
       "\n",
       "    .dataframe tbody tr th {\n",
       "        vertical-align: top;\n",
       "    }\n",
       "\n",
       "    .dataframe thead th {\n",
       "        text-align: right;\n",
       "    }\n",
       "</style>\n",
       "<table border=\"1\" class=\"dataframe\">\n",
       "  <thead>\n",
       "    <tr style=\"text-align: right;\">\n",
       "      <th></th>\n",
       "      <th></th>\n",
       "      <th>Converted Users</th>\n",
       "    </tr>\n",
       "    <tr>\n",
       "      <th>converted</th>\n",
       "      <th>landing_page</th>\n",
       "      <th></th>\n",
       "    </tr>\n",
       "  </thead>\n",
       "  <tbody>\n",
       "    <tr>\n",
       "      <th rowspan=\"2\" valign=\"top\">no</th>\n",
       "      <th>old</th>\n",
       "      <td>29</td>\n",
       "    </tr>\n",
       "    <tr>\n",
       "      <th>new</th>\n",
       "      <td>17</td>\n",
       "    </tr>\n",
       "    <tr>\n",
       "      <th rowspan=\"2\" valign=\"top\">yes</th>\n",
       "      <th>new</th>\n",
       "      <td>33</td>\n",
       "    </tr>\n",
       "    <tr>\n",
       "      <th>old</th>\n",
       "      <td>21</td>\n",
       "    </tr>\n",
       "  </tbody>\n",
       "</table>\n",
       "</div>"
      ],
      "text/plain": [
       "                        Converted Users\n",
       "converted landing_page                 \n",
       "no        old                        29\n",
       "          new                        17\n",
       "yes       new                        33\n",
       "          old                        21"
      ]
     },
     "execution_count": 78,
     "metadata": {},
     "output_type": "execute_result"
    }
   ],
   "source": [
    "ulandconv = udata['landing_page'].groupby(udata['converted']).value_counts().to_frame(name = 'Converted Users')\n",
    "ulandconv"
   ]
  },
  {
   "cell_type": "code",
   "execution_count": 79,
   "id": "db98c6db",
   "metadata": {},
   "outputs": [
    {
     "data": {
      "text/plain": [
       "<AxesSubplot:xlabel='converted,landing_page'>"
      ]
     },
     "execution_count": 79,
     "metadata": {},
     "output_type": "execute_result"
    },
    {
     "data": {
      "image/png": "[encoded data removed]",
      "text/plain": [
       "<Figure size 864x360 with 1 Axes>"
      ]
     },
     "metadata": {},
     "output_type": "display_data"
    }
   ],
   "source": [
    "ulandconv.plot(kind = 'bar', figsize = (12,5), rot = 70)"
   ]
  },
  {
   "cell_type": "markdown",
   "id": "9e4b9a2e",
   "metadata": {},
   "source": [
    "***Let's test whether the Z-test assumptions are satisfied or not***\n",
    "* Binomally distributed population - Yes, a user is either converted or not\n",
    "* Random sampling from the population - Yes, we are informed that the collected sample is a simple random sample.\n",
    "* Can the binomial distribution approximated to normal distribution - Yes. For binary data, CLT works slower than usual. The standard thing is to check whether np and n(1-p) are greater than or equal to 10. Here, n and p refer to the sample size and sample proportion respectively.\n",
    "* All values are above >= 10"
   ]
  },
  {
   "cell_type": "code",
   "execution_count": 83,
   "id": "26398985",
   "metadata": {},
   "outputs": [
    {
     "name": "stdout",
     "output_type": "stream",
     "text": [
      "33.0\n",
      "21.0\n",
      "17.0\n",
      "29.0\n"
     ]
    }
   ],
   "source": [
    "np1= udata.query('landing_page==\"new\"').user_id.count() * convusers.landing_page.value_counts()[\"new\"]/udata.query('landing_page==\"new\"').user_id.count()\n",
    "print(np1)\n",
    "np2= udata.query('landing_page==\"old\"').user_id.count() * convusers.landing_page.value_counts()[\"old\"]/udata.query('landing_page==\"old\"').user_id.count()\n",
    "print(np2)\n",
    "n1p1 = udata.query('landing_page==\"new\"').user_id.count() * ( udata.query('landing_page==\"new\"').user_id.count()-convusers.landing_page.value_counts()[\"new\"])/udata.query('landing_page==\"new\"').user_id.count()\n",
    "print(n1p1)\n",
    "n1p2= udata.query('landing_page==\"old\"').user_id.count() * (udata.query('landing_page==\"old\"').user_id.count()-convusers.landing_page.value_counts()[\"old\"])/udata.query('landing_page==\"old\"').user_id.count()\n",
    "print(n1p2)"
   ]
  },
  {
   "cell_type": "code",
   "execution_count": 85,
   "id": "2c5a1aea",
   "metadata": {},
   "outputs": [
    {
     "name": "stdout",
     "output_type": "stream",
     "text": [
      "The p-value is 0.016052616408112556\n"
     ]
    }
   ],
   "source": [
    "#Calculate p-value\n",
    "# import the required fuction\n",
    "from statsmodels.stats.proportion import proportions_ztest\n",
    "\n",
    "# set the counts of converted users for new and old\n",
    "conv_count = np.array([convusers.landing_page.value_counts()[\"new\"], convusers.landing_page.value_counts()[\"old\"]])\n",
    "\n",
    "# set the sample sizes\n",
    "nobs = np.array([udata.query('landing_page==\"new\"').user_id.count() , udata.query('landing_page==\"old\"').user_id.count() ])\n",
    "\n",
    "# find the p-value\n",
    "test_stat, p_value = proportions_ztest(conv_count, nobs)\n",
    "print('The p-value is ' + str(p_value))"
   ]
  },
  {
   "cell_type": "markdown",
   "id": "2884b3fe",
   "metadata": {},
   "source": [
    "#### Conclusion\n",
    "As the p-value is less than the significance level 0.05, we ***reject the null hypothesis***. Thus, we do have enough statistical significance to conclude that the Conversion rate for new landing page and  old landing page are not same."
   ]
  },
  {
   "cell_type": "markdown",
   "id": "3be04feb",
   "metadata": {},
   "source": [
    "## Does Converted status depend on Pref Language"
   ]
  },
  {
   "cell_type": "code",
   "execution_count": 75,
   "id": "5d25693f",
   "metadata": {},
   "outputs": [
    {
     "data": {
      "text/plain": [
       "<AxesSubplot:xlabel='language_preferred', ylabel='count'>"
      ]
     },
     "execution_count": 75,
     "metadata": {},
     "output_type": "execute_result"
    },
    {
     "data": {
      "image/png": "[encoded data removed]",
      "text/plain": [
       "<Figure size 432x288 with 1 Axes>"
      ]
     },
     "metadata": {},
     "output_type": "display_data"
    }
   ],
   "source": [
    "sns.set_style('whitegrid')\n",
    "sns.countplot(x='language_preferred',hue='converted',data=udata,palette='rainbow')"
   ]
  },
  {
   "cell_type": "markdown",
   "id": "f078d88f",
   "metadata": {},
   "source": [
    "Here we need to find the dependency betweeen two variables Preffered Language and Converted Status. \n",
    "We can perform Chi square test for independence by forming 2x2 contingency table for two variables (Preferred language and Converted Status) and store number of observations at each cell"
   ]
  },
  {
   "cell_type": "markdown",
   "id": "62eed1d9",
   "metadata": {},
   "source": [
    "In contingency table row and column variables are independent\n",
    "* Categorical variables - yes\n",
    "* Expected value of the number of sample observations in each level of the variable is atleast 5 - Yes\n",
    "* Random Sampling from the population - Yes."
   ]
  },
  {
   "cell_type": "markdown",
   "id": "cd4074df",
   "metadata": {},
   "source": [
    "### Null Hypothesis(H0) - Converted Status depend of Preferred language\n",
    "### Alternate Hypothesis(Ha) - Converted status not depend on Preferred language"
   ]
  },
  {
   "cell_type": "code",
   "execution_count": 73,
   "id": "3df01740",
   "metadata": {},
   "outputs": [
    {
     "name": "stdout",
     "output_type": "stream",
     "text": [
      "language_preferred  English  French  Spanish\n",
      "converted                                   \n",
      "no                       11      19       16\n",
      "yes                      21      15       18\n"
     ]
    }
   ],
   "source": [
    "# Prepping data to form contingency table\n",
    "udata_crosstab = pd.crosstab(udata['converted'],udata['language_preferred'],margins=False)\n",
    "print(udata_crosstab)\n"
   ]
  },
  {
   "cell_type": "code",
   "execution_count": 74,
   "id": "e9121580",
   "metadata": {},
   "outputs": [
    {
     "name": "stdout",
     "output_type": "stream",
     "text": [
      "The p-value is 0.21298887487543447\n"
     ]
    }
   ],
   "source": [
    "#Caclulate p-value \n",
    "# import the required function\n",
    "from scipy.stats import chi2_contingency\n",
    "\n",
    "# find the p-value\n",
    "chi, p_value, dof, expected = chi2_contingency(udata_crosstab)\n",
    "print('The p-value is', p_value)"
   ]
  },
  {
   "cell_type": "markdown",
   "id": "2deb6069",
   "metadata": {},
   "source": [
    "### Conclusion\n",
    "With a p-value of 0.213, much greater than the significance level, we ***fail to reject the null hypothesis***. Hence we do have enough statistical evidence to conclude that Converted status depend on Preferred_language at 5% significance level"
   ]
  },
  {
   "cell_type": "markdown",
   "id": "c2f92460",
   "metadata": {},
   "source": [
    "## Is mean time spent on new page same for different languages"
   ]
  },
  {
   "cell_type": "markdown",
   "id": "03ecd6f0",
   "metadata": {},
   "source": [
    "#### Null Hypothesis(H0) - Meantime spent on new page is same for different languages\n",
    "#### Alternate Hypothesis(Ha) - atleast one of the means is not the same"
   ]
  },
  {
   "cell_type": "code",
   "execution_count": 116,
   "id": "4f4d5109",
   "metadata": {},
   "outputs": [
    {
     "data": {
      "image/png": "[encoded data removed]",
      "text/plain": [
       "<Figure size 864x504 with 1 Axes>"
      ]
     },
     "metadata": {},
     "output_type": "display_data"
    }
   ],
   "source": [
    "plt.figure(figsize=(12,7))\n",
    "sns.boxplot(x='language_preferred',y='time_spent_on_the_page',data=udata.query('landing_page==\"new\"'),palette='rainbow')\n",
    "plt.show()"
   ]
  },
  {
   "cell_type": "markdown",
   "id": "bab92531",
   "metadata": {},
   "source": [
    "#### we can see from above page the mean time spent on new page is significantly different for different languages\n",
    "#### so we perform ANOVA f test."
   ]
  },
  {
   "cell_type": "code",
   "execution_count": 46,
   "id": "72aeaa73",
   "metadata": {},
   "outputs": [
    {
     "name": "stdout",
     "output_type": "stream",
     "text": [
      "language_preferred\n",
      "English    6.663750\n",
      "French     6.196471\n",
      "Spanish    5.835294\n",
      "Name: time_spent_on_the_page, dtype: float64\n"
     ]
    }
   ],
   "source": [
    "# mean of time psent on new page across different languages\n",
    "print((udata.query('landing_page==\"new\"')).groupby(\"language_preferred\")[\"time_spent_on_the_page\"].mean())"
   ]
  },
  {
   "cell_type": "markdown",
   "id": "8b648c81",
   "metadata": {},
   "source": [
    "#### Now, the normality and equality of variance assumptions to be checked\n",
    "#### We will perform Shapiro-Willk's test for normality\n",
    "#### Levene test for variance equality"
   ]
  },
  {
   "cell_type": "code",
   "execution_count": 47,
   "id": "cef2ecb2",
   "metadata": {},
   "outputs": [
    {
     "name": "stdout",
     "output_type": "stream",
     "text": [
      "P value is 0.8040016293525696\n"
     ]
    }
   ],
   "source": [
    "#Shapiro Willk's test\n",
    "#Null Hypothesis (H0) : Time spent follow normal dist.\n",
    "#Alternate Hypothesis (ha): Time spent does not follow normal dist.\n",
    "\n",
    "#import required\n",
    "from scipy import stats\n",
    "\n",
    "#find p value\n",
    "w,p_value = stats.shapiro(udata.query('landing_page==\"new\"')[\"time_spent_on_the_page\"])\n",
    "print('P value is',p_value)"
   ]
  },
  {
   "cell_type": "markdown",
   "id": "002b7922",
   "metadata": {},
   "source": [
    "Since P-value of the test is very large, we fail to reject the null hypothesis that the response follow normal distribution"
   ]
  },
  {
   "cell_type": "code",
   "execution_count": 49,
   "id": "496b1ffc",
   "metadata": {},
   "outputs": [
    {
     "name": "stdout",
     "output_type": "stream",
     "text": [
      "P value is 0.46711357711340173\n"
     ]
    }
   ],
   "source": [
    "#Levene's test\n",
    "# Null Hypothesis (H0):All population variances are equal.\n",
    "# Alternate Hypothesis (Ha): Atleast one variance is different\n",
    "\n",
    "#import required\n",
    "from scipy.stats import levene\n",
    "statistic,p_value = levene(udata.query('landing_page==\"new\" and language_preferred==\"English\"')[\"time_spent_on_the_page\"],\n",
    "                          udata.query('landing_page==\"new\" and language_preferred==\"French\"')[\"time_spent_on_the_page\"],\n",
    "                          udata.query('landing_page==\"new\" and language_preferred==\"Spanish\"')[\"time_spent_on_the_page\"])\n",
    "print('P value is',p_value)"
   ]
  },
  {
   "cell_type": "markdown",
   "id": "728c3faf",
   "metadata": {},
   "source": [
    "Since p_value is large, we fail to reject null hypothesis of homogeneity of values"
   ]
  },
  {
   "cell_type": "code",
   "execution_count": 52,
   "id": "98319250",
   "metadata": {},
   "outputs": [
    {
     "name": "stdout",
     "output_type": "stream",
     "text": [
      "P value is 0.43204138694325955\n"
     ]
    }
   ],
   "source": [
    "#Lets perform ANOVA test\n",
    "from scipy.stats import f_oneway\n",
    "test_stat,p_value = f_oneway(udata.query('landing_page==\"new\"').loc[udata.query('landing_page==\"new\"')['language_preferred']=='English','time_spent_on_the_page'],\n",
    "                          udata.query('landing_page==\"new\"').loc[udata.query('landing_page==\"new\"')['language_preferred']=='Spanish','time_spent_on_the_page'],\n",
    "                          udata.query('landing_page==\"new\"').loc[udata.query('landing_page==\"new\"')['language_preferred']=='French','time_spent_on_the_page'])\n",
    "print('P value is',p_value)"
   ]
  },
  {
   "cell_type": "markdown",
   "id": "6a11f551",
   "metadata": {},
   "source": [
    "### Insight\n",
    "As the p-value is much larger than the significance value, we ***fail to reject null-hypothesis***. Hence we do have enough statistical\n",
    "evidence to conclude that the mean time spent by users on new landing page is almost same at 5% significance level."
   ]
  },
  {
   "cell_type": "markdown",
   "id": "c90f5be1",
   "metadata": {},
   "source": [
    "## Summary\n",
    "* New page design has positive impact\n",
    "* users spending time has increased \n",
    "* Users across various language spent at an averge same time\n",
    "* USers conversion rate has increase among the users who use new pages"
   ]
  }
 ],
 "metadata": {
  "kernelspec": {
   "display_name": "Python 3",
   "language": "python",
   "name": "python3"
  },
  "language_info": {
   "codemirror_mode": {
    "name": "ipython",
    "version": 3
   },
   "file_extension": ".py",
   "mimetype": "text/x-python",
   "name": "python",
   "nbconvert_exporter": "python",
   "pygments_lexer": "ipython3",
   "version": "3.8.8"
  }
 },
 "nbformat": 4,
 "nbformat_minor": 5
}
